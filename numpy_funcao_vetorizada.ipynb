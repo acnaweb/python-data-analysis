{
 "cells": [
  {
   "cell_type": "code",
   "execution_count": 1,
   "metadata": {},
   "outputs": [
    {
     "data": {
      "text/plain": [
       "'1.18.5'"
      ]
     },
     "execution_count": 1,
     "metadata": {},
     "output_type": "execute_result"
    }
   ],
   "source": [
    "import numpy as np\n",
    "np.__version__"
   ]
  },
  {
   "cell_type": "code",
   "execution_count": 3,
   "metadata": {},
   "outputs": [
    {
     "data": {
      "text/plain": [
       "array([ 9, 20, 29, 39,  8, 42, 46,  5, 26, 23, 44, 40, 38, 23, 33, 10, 17,\n",
       "       24, 15, 49])"
      ]
     },
     "execution_count": 3,
     "metadata": {},
     "output_type": "execute_result"
    }
   ],
   "source": [
    "a = np.random.randint(0,50,20)\n",
    "a"
   ]
  },
  {
   "cell_type": "code",
   "execution_count": 6,
   "metadata": {},
   "outputs": [],
   "source": [
    "def calc_func(x):\n",
    "    if x < 10:\n",
    "        return x**3\n",
    "    else:\n",
    "        return x**2\n",
    "    "
   ]
  },
  {
   "cell_type": "code",
   "execution_count": 13,
   "metadata": {},
   "outputs": [],
   "source": [
    "# funcao vetorizada para aplicar a cada elemento de array\n",
    "v_calc_func = np.vectorize(calc_func)"
   ]
  },
  {
   "cell_type": "code",
   "execution_count": 14,
   "metadata": {},
   "outputs": [
    {
     "data": {
      "text/plain": [
       "array([ 729,  400,  841, 1521,  512, 1764, 2116,  125,  676,  529, 1936,\n",
       "       1600, 1444,  529, 1089,  100,  289,  576,  225, 2401])"
      ]
     },
     "execution_count": 14,
     "metadata": {},
     "output_type": "execute_result"
    }
   ],
   "source": [
    "v_calc_func(a)"
   ]
  },
  {
   "cell_type": "code",
   "execution_count": 16,
   "metadata": {},
   "outputs": [
    {
     "data": {
      "text/plain": [
       "[729,\n",
       " 400,\n",
       " 841,\n",
       " 1521,\n",
       " 512,\n",
       " 1764,\n",
       " 2116,\n",
       " 125,\n",
       " 676,\n",
       " 529,\n",
       " 1936,\n",
       " 1600,\n",
       " 1444,\n",
       " 529,\n",
       " 1089,\n",
       " 100,\n",
       " 289,\n",
       " 576,\n",
       " 225,\n",
       " 2401]"
      ]
     },
     "execution_count": 16,
     "metadata": {},
     "output_type": "execute_result"
    }
   ],
   "source": [
    "list(map(calc_func, a))"
   ]
  },
  {
   "cell_type": "code",
   "execution_count": 17,
   "metadata": {},
   "outputs": [
    {
     "data": {
      "text/plain": [
       "[729,\n",
       " 400,\n",
       " 841,\n",
       " 1521,\n",
       " 512,\n",
       " 1764,\n",
       " 2116,\n",
       " 125,\n",
       " 676,\n",
       " 529,\n",
       " 1936,\n",
       " 1600,\n",
       " 1444,\n",
       " 529,\n",
       " 1089,\n",
       " 100,\n",
       " 289,\n",
       " 576,\n",
       " 225,\n",
       " 2401]"
      ]
     },
     "execution_count": 17,
     "metadata": {},
     "output_type": "execute_result"
    }
   ],
   "source": [
    "[calc_func(x) for x in a]"
   ]
  },
  {
   "cell_type": "code",
   "execution_count": 21,
   "metadata": {},
   "outputs": [
    {
     "name": "stdout",
     "output_type": "stream",
     "text": [
      "9.95 µs ± 120 ns per loop (mean ± std. dev. of 7 runs, 100000 loops each)\n",
      "16.4 µs ± 342 ns per loop (mean ± std. dev. of 7 runs, 100000 loops each)\n",
      "9.59 µs ± 291 ns per loop (mean ± std. dev. of 7 runs, 100000 loops each)\n"
     ]
    }
   ],
   "source": [
    "%timeit [calc_func(x) for x in a]\n",
    "%timeit v_calc_func(a)\n",
    "%timeit list(map(calc_func, a))"
   ]
  },
  {
   "cell_type": "code",
   "execution_count": 30,
   "metadata": {},
   "outputs": [
    {
     "data": {
      "text/plain": [
       "array([22, 73, 37, ..., 15, 69, 62])"
      ]
     },
     "execution_count": 30,
     "metadata": {},
     "output_type": "execute_result"
    }
   ],
   "source": [
    "a = np.random.randint(0,100,20*10000)\n",
    "# np.random.randint(start, end, repeats)\n",
    "\n",
    "a\n"
   ]
  },
  {
   "cell_type": "code",
   "execution_count": 31,
   "metadata": {},
   "outputs": [
    {
     "name": "stdout",
     "output_type": "stream",
     "text": [
      "112 ms ± 8 ms per loop (mean ± std. dev. of 7 runs, 10 loops each)\n",
      "62.2 ms ± 1.72 ms per loop (mean ± std. dev. of 7 runs, 10 loops each)\n",
      "111 ms ± 3.17 ms per loop (mean ± std. dev. of 7 runs, 10 loops each)\n"
     ]
    }
   ],
   "source": [
    "%timeit [calc_func(x) for x in a]\n",
    "%timeit v_calc_func(a)\n",
    "%timeit list(map(calc_func, a))"
   ]
  }
 ],
 "metadata": {
  "kernelspec": {
   "display_name": "Python 3",
   "language": "python",
   "name": "python3"
  },
  "language_info": {
   "codemirror_mode": {
    "name": "ipython",
    "version": 3
   },
   "file_extension": ".py",
   "mimetype": "text/x-python",
   "name": "python",
   "nbconvert_exporter": "python",
   "pygments_lexer": "ipython3",
   "version": "3.8.5"
  }
 },
 "nbformat": 4,
 "nbformat_minor": 4
}
