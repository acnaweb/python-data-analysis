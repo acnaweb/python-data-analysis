{
 "cells": [
  {
   "cell_type": "code",
   "execution_count": 2,
   "metadata": {},
   "outputs": [],
   "source": [
    "import pandas as pd\n",
    "from sklearn.preprocessing import MinMaxScaler\n",
    "from sklearn.decomposition import PCA"
   ]
  },
  {
   "cell_type": "markdown",
   "metadata": {},
   "source": [
    "PCA - Reducao de dimensionalidade"
   ]
  },
  {
   "cell_type": "code",
   "execution_count": 3,
   "metadata": {},
   "outputs": [],
   "source": [
    "df = pd.read_pickle(\"datasets/pima-data.pkl\")"
   ]
  },
  {
   "cell_type": "code",
   "execution_count": 4,
   "metadata": {},
   "outputs": [],
   "source": [
    "# inputs e classes\n",
    "X = df.values[:,0:8]\n",
    "Y = df.values[:,8]"
   ]
  },
  {
   "cell_type": "code",
   "execution_count": 6,
   "metadata": {},
   "outputs": [],
   "source": [
    "# normalizando\n",
    "scaler = MinMaxScaler(feature_range = (0,1))\n",
    "rescaledX = scaler.fit_transform(X)"
   ]
  },
  {
   "cell_type": "code",
   "execution_count": 7,
   "metadata": {},
   "outputs": [],
   "source": [
    "# selecao de atributos\n",
    "pca = PCA(n_components = 4)\n",
    "fit = pca.fit(rescaledX)"
   ]
  },
  {
   "cell_type": "code",
   "execution_count": 11,
   "metadata": {},
   "outputs": [
    {
     "name": "stdout",
     "output_type": "stream",
     "text": [
      "\n",
      "Components [0.31192249 0.21186663 0.11819693 0.10349153]\n",
      "[[ 0.65204425  0.24136132  0.22516492 -0.0559239  -0.00386329  0.0520263\n",
      "   0.01915023  0.67798812]\n",
      " [-0.16932416  0.35676608  0.33104032  0.59815466  0.44736849  0.31942511\n",
      "   0.26749398 -0.05428262]\n",
      " [ 0.24628749 -0.69388768  0.45574002  0.38484968 -0.1908919   0.12259645\n",
      "  -0.19359513 -0.11447898]\n",
      " [ 0.51093814 -0.17502202 -0.66594541  0.34250382  0.23019001 -0.04263694\n",
      "   0.24412554 -0.18197453]]\n"
     ]
    }
   ],
   "source": [
    "print(\"\\nComponents\", fit.explained_variance_ratio_)\n",
    "print( fit.components_)"
   ]
  }
 ],
 "metadata": {
  "kernelspec": {
   "display_name": "Python 3",
   "language": "python",
   "name": "python3"
  },
  "language_info": {
   "codemirror_mode": {
    "name": "ipython",
    "version": 3
   },
   "file_extension": ".py",
   "mimetype": "text/x-python",
   "name": "python",
   "nbconvert_exporter": "python",
   "pygments_lexer": "ipython3",
   "version": "3.8.5"
  }
 },
 "nbformat": 4,
 "nbformat_minor": 4
}
