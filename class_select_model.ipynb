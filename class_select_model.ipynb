{
 "cells": [
  {
   "cell_type": "code",
   "execution_count": 26,
   "metadata": {},
   "outputs": [],
   "source": [
    "from pandas import read_pickle\n",
    "from sklearn.model_selection import KFold\n",
    "from sklearn.model_selection import cross_val_score\n",
    "from sklearn.linear_model import LogisticRegression\n",
    "from sklearn.tree import DecisionTreeClassifier\n",
    "from sklearn.neighbors import KNeighborsClassifier\n",
    "from sklearn.discriminant_analysis import LinearDiscriminantAnalysis\n",
    "from sklearn.naive_bayes import GaussianNB\n",
    "from sklearn.svm import SVC\n",
    "import matplotlib.pyplot as plt\n",
    "%matplotlib inline"
   ]
  },
  {
   "cell_type": "code",
   "execution_count": 2,
   "metadata": {},
   "outputs": [],
   "source": [
    "df = read_pickle(\"datasets/pima-data.pkl\")"
   ]
  },
  {
   "cell_type": "code",
   "execution_count": 3,
   "metadata": {},
   "outputs": [],
   "source": [
    "# inputs e classes\n",
    "X = df.values[:,0:8]\n",
    "Y = df.values[:,8]"
   ]
  },
  {
   "cell_type": "code",
   "execution_count": 4,
   "metadata": {},
   "outputs": [],
   "source": [
    "num_folds = 10\n",
    "seed = 7"
   ]
  },
  {
   "cell_type": "code",
   "execution_count": 10,
   "metadata": {},
   "outputs": [],
   "source": [
    "models = []\n",
    "models.append((\"LB\", LogisticRegression(solver='lbfgs', max_iter=400)))\n",
    "models.append((\"LDA\", LinearDiscriminantAnalysis()))\n",
    "models.append((\"NB\", GaussianNB()))\n",
    "models.append((\"KNN\", KNeighborsClassifier()))\n",
    "models.append((\"SVM\", DecisionTreeClassifier()))\n",
    "models.append((\"CART\", SVC()))\n"
   ]
  },
  {
   "cell_type": "code",
   "execution_count": 34,
   "metadata": {},
   "outputs": [],
   "source": [
    "# avaliando cada modelo em um loop\n",
    "results = []\n",
    "names = []"
   ]
  },
  {
   "cell_type": "code",
   "execution_count": 35,
   "metadata": {},
   "outputs": [
    {
     "name": "stdout",
     "output_type": "stream",
     "text": [
      "LB: 0.772163 (0.049684)\n",
      "LDA: 0.766969 (0.047966)\n",
      "NB: 0.759142 (0.038960)\n",
      "KNN: 0.710988 (0.050792)\n",
      "SVM: 0.694173 (0.051597)\n",
      "CART: 0.760458 (0.034712)\n"
     ]
    }
   ],
   "source": [
    "for name, model in models:\n",
    "    kfold = KFold(num_folds, shuffle=True, random_state = seed)\n",
    "    cv_results = cross_val_score(model, X, Y, cv= kfold, scoring = \"accuracy\")\n",
    "    results.append(cv_results)\n",
    "    names.append(name)\n",
    "    msg = \"%s: %f (%f)\" % (name, cv_results.mean(), cv_results.std())\n",
    "    print(msg)"
   ]
  },
  {
   "cell_type": "code",
   "execution_count": 39,
   "metadata": {},
   "outputs": [
    {
     "data": {
      "image/png": "[encoded data removed]",
      "text/plain": [
       "<Figure size 432x288 with 1 Axes>"
      ]
     },
     "metadata": {
      "needs_background": "light"
     },
     "output_type": "display_data"
    }
   ],
   "source": [
    "# comparação de algoritmos com boxplot\n",
    "fig = plt.figure()\n",
    "fig.suptitle(\"Comparação de algoritmos de classificação\")\n",
    "ax = fig.add_subplot(111)\n",
    "plt.boxplot(results)\n",
    "ax.set_xticklabels(names)\n",
    "plt.show()"
   ]
  },
  {
   "cell_type": "code",
   "execution_count": 37,
   "metadata": {},
   "outputs": [
    {
     "data": {
      "text/plain": [
       "[array([0.83116883, 0.74025974, 0.74025974, 0.80519481, 0.79220779,\n",
       "        0.77922078, 0.66233766, 0.80519481, 0.82894737, 0.73684211]),\n",
       " array([0.80519481, 0.75324675, 0.71428571, 0.79220779, 0.79220779,\n",
       "        0.77922078, 0.66233766, 0.80519481, 0.82894737, 0.73684211]),\n",
       " array([0.80519481, 0.71428571, 0.7012987 , 0.80519481, 0.79220779,\n",
       "        0.75324675, 0.71428571, 0.76623377, 0.80263158, 0.73684211]),\n",
       " array([0.72727273, 0.71428571, 0.61038961, 0.72727273, 0.7012987 ,\n",
       "        0.72727273, 0.66233766, 0.77922078, 0.78947368, 0.67105263]),\n",
       " array([0.71428571, 0.63636364, 0.62337662, 0.67532468, 0.68831169,\n",
       "        0.71428571, 0.62337662, 0.75324675, 0.77631579, 0.73684211]),\n",
       " array([0.79220779, 0.75324675, 0.71428571, 0.79220779, 0.77922078,\n",
       "        0.77922078, 0.68831169, 0.75324675, 0.80263158, 0.75      ])]"
      ]
     },
     "execution_count": 37,
     "metadata": {},
     "output_type": "execute_result"
    }
   ],
   "source": [
    "results"
   ]
  }
 ],
 "metadata": {
  "kernelspec": {
   "display_name": "Python 3",
   "language": "python",
   "name": "python3"
  },
  "language_info": {
   "codemirror_mode": {
    "name": "ipython",
    "version": 3
   },
   "file_extension": ".py",
   "mimetype": "text/x-python",
   "name": "python",
   "nbconvert_exporter": "python",
   "pygments_lexer": "ipython3",
   "version": "3.8.5"
  }
 },
 "nbformat": 4,
 "nbformat_minor": 4
}
